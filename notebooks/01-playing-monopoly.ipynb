{
 "cells": [
  {
   "cell_type": "code",
   "execution_count": 1,
   "metadata": {},
   "outputs": [],
   "source": [
    "import numpy as np\n",
    "import matplotlib.pyplot as plt\n",
    "\n",
    "from monopyly.game import double_dice\n",
    "\n",
    "%matplotlib inline"
   ]
  },
  {
   "cell_type": "code",
   "execution_count": 2,
   "metadata": {},
   "outputs": [
    {
     "data": {
      "image/png": "[encoded data removed]",
      "text/plain": [
       "<Figure size 432x288 with 1 Axes>"
      ]
     },
     "metadata": {
      "needs_background": "light"
     },
     "output_type": "display_data"
    }
   ],
   "source": [
    "plt.hist(double_dice(n_rolls=19999), bins=list(range(1, 14)));"
   ]
  },
  {
   "cell_type": "code",
   "execution_count": 44,
   "metadata": {},
   "outputs": [],
   "source": [
    "dice_dict = {\n",
    "    0: 0,\n",
    "    1: 0,\n",
    "    2: 1/36,\n",
    "    3: 2/36,\n",
    "    4: 3/36,\n",
    "    5: 4/36,\n",
    "    6: 5/36,\n",
    "    7: 6/36,\n",
    "    8: 5/36,\n",
    "    9: 4/36,\n",
    "    10: 3/36,\n",
    "    11: 2/36,\n",
    "    12:1/36,\n",
    "}"
   ]
  },
  {
   "cell_type": "code",
   "execution_count": 7,
   "metadata": {},
   "outputs": [
    {
     "data": {
      "text/plain": [
       "array([[0., 0., 0., 0., 0., 0., 0., 0., 0., 0., 0.],\n",
       "       [0., 0., 0., 0., 0., 0., 0., 0., 0., 0., 0.],\n",
       "       [0., 0., 0., 0., 0., 0., 0., 0., 0., 0., 0.],\n",
       "       [0., 0., 0., 0., 0., 0., 0., 0., 0., 0., 0.],\n",
       "       [0., 0., 0., 0., 0., 0., 0., 0., 0., 0., 0.],\n",
       "       [0., 0., 0., 0., 0., 0., 0., 0., 0., 0., 0.],\n",
       "       [0., 0., 0., 0., 0., 0., 0., 0., 0., 0., 0.],\n",
       "       [0., 0., 0., 0., 0., 0., 0., 0., 0., 0., 0.],\n",
       "       [0., 0., 0., 0., 0., 0., 0., 0., 0., 0., 0.],\n",
       "       [0., 0., 0., 0., 0., 0., 0., 0., 0., 0., 0.],\n",
       "       [0., 0., 0., 0., 0., 0., 0., 0., 0., 0., 0.]])"
      ]
     },
     "execution_count": 7,
     "metadata": {},
     "output_type": "execute_result"
    }
   ],
   "source": [
    "board = np.zeros(shape=(11,11))"
   ]
  },
  {
   "cell_type": "code",
   "execution_count": 135,
   "metadata": {},
   "outputs": [],
   "source": [
    "states = list(range(0, 40)) # + [40, 42] # ends at 39 + jail\n",
    "\n",
    "n_states = len(states)\n",
    "P_ij = np.zeros(shape=(n_states, n_states))\n",
    "\n",
    "\n",
    "# TODO: YOU ROLL 3 DOUBLES\n",
    "\n",
    "# TODO: Go to jail\n",
    "# Turn 1: Roll double is out immedeiately and to the location of the double throw\n",
    "# Turn 2: \"\"\"\"\"\"\n",
    "# Turn 3: Roll if double: out and to location, if not still go to location.\n",
    "\n",
    "# https://monopoly.fandom.com/wiki/Chance\n",
    "# https://monopoly.fandom.com/wiki/Community_Chest"
   ]
  },
  {
   "cell_type": "code",
   "execution_count": 136,
   "metadata": {},
   "outputs": [],
   "source": [
    "dice_probabilities = list(map(dice_dict.get, range(0, 13)))\n",
    "\n",
    "for i in range(0, 40):\n",
    "    np.put(P_ij[i],\n",
    "           list(range(i, i + 13)),\n",
    "           dice_probabilities,\n",
    "           mode='wrap'\n",
    "          )"
   ]
  },
  {
   "cell_type": "code",
   "execution_count": 137,
   "metadata": {},
   "outputs": [],
   "source": [
    "states = states + [40, 41]\n",
    "n_states = len(states)\n",
    "P_ij = np.concatenate((P_ij, np.zeros(shape = (2, 40))))\n",
    "P_ij = np.concatenate((P_ij, np.zeros(shape = (42, 2))), axis = 1)"
   ]
  },
  {
   "cell_type": "code",
   "execution_count": 138,
   "metadata": {},
   "outputs": [],
   "source": [
    "# From 30, the player has to roll double to move forward, so it will go to 40 if the roll is != (1, 1), (2, 2), ..., (6, 6). Let's type out P_{30,j} manually.\n",
    "P_ij[30, :] = 0\n",
    "P_ij[[30, 40], 10:23] = [0, 0, 1/36, 0, 1/36, 0, 1/36, 0, 1/36, 0, 1/36, 0, 1/36]\n",
    "P_ij[30][40] = 30/36\n",
    "P_ij[40][41] = 30/36\n",
    "P_ij[41] = P_ij[10]"
   ]
  },
  {
   "cell_type": "code",
   "execution_count": 139,
   "metadata": {},
   "outputs": [
    {
     "data": {
      "text/plain": [
       "array([0.        , 0.        , 0.02777778, 0.05555556, 0.08333333,\n",
       "       0.11111111, 0.13888889, 0.16666667, 0.13888889, 0.11111111,\n",
       "       0.08333333, 0.05555556, 0.02777778, 0.        , 0.        ,\n",
       "       0.        , 0.        , 0.        , 0.        , 0.        ,\n",
       "       0.        , 0.        , 0.        , 0.        , 0.        ,\n",
       "       0.        , 0.        , 0.        , 0.        , 0.        ,\n",
       "       0.        , 0.        , 0.        , 0.        , 0.        ,\n",
       "       0.        , 0.        , 0.        , 0.        , 0.        ,\n",
       "       0.        , 0.        ])"
      ]
     },
     "execution_count": 139,
     "metadata": {},
     "output_type": "execute_result"
    }
   ],
   "source": [
    "P_ij[0]"
   ]
  },
  {
   "cell_type": "code",
   "execution_count": 190,
   "metadata": {},
   "outputs": [],
   "source": [
    "n_turns = 100000\n",
    "square = 0\n",
    "square_counts = [0] * len(states)\n",
    "\n",
    "for i in range(n_turns):\n",
    "    new_square = np.random.choice(states, p=P_ij[square])\n",
    "    square_counts[new_square] += 1\n",
    "    square = new_square"
   ]
  },
  {
   "cell_type": "code",
   "execution_count": 191,
   "metadata": {
    "collapsed": true,
    "jupyter": {
     "outputs_hidden": true
    }
   },
   "outputs": [
    {
     "data": {
      "text/plain": [
       "[2185,\n",
       " 2221,\n",
       " 2250,\n",
       " 2234,\n",
       " 2166,\n",
       " 2211,\n",
       " 2247,\n",
       " 2169,\n",
       " 2215,\n",
       " 2182,\n",
       " 2281,\n",
       " 2223,\n",
       " 2368,\n",
       " 2334,\n",
       " 2465,\n",
       " 2437,\n",
       " 2613,\n",
       " 2583,\n",
       " 2666,\n",
       " 2542,\n",
       " 2648,\n",
       " 2529,\n",
       " 2711,\n",
       " 2581,\n",
       " 2543,\n",
       " 2586,\n",
       " 2627,\n",
       " 2580,\n",
       " 2584,\n",
       " 2519,\n",
       " 2683,\n",
       " 2574,\n",
       " 2478,\n",
       " 2379,\n",
       " 2485,\n",
       " 2271,\n",
       " 2118,\n",
       " 2075,\n",
       " 2135,\n",
       " 2188,\n",
       " 2244,\n",
       " 1870]"
      ]
     },
     "execution_count": 191,
     "metadata": {},
     "output_type": "execute_result"
    }
   ],
   "source": [
    "square_counts"
   ]
  },
  {
   "cell_type": "code",
   "execution_count": null,
   "metadata": {},
   "outputs": [],
   "source": [
    "# Multiply all the states before creating jail by the number of times you rolled double.\n",
    "\n"
   ]
  }
 ],
 "metadata": {
  "kernelspec": {
   "display_name": "Python 3",
   "language": "python",
   "name": "python3"
  },
  "language_info": {
   "codemirror_mode": {
    "name": "ipython",
    "version": 3
   },
   "file_extension": ".py",
   "mimetype": "text/x-python",
   "name": "python",
   "nbconvert_exporter": "python",
   "pygments_lexer": "ipython3",
   "version": "3.7.4"
  }
 },
 "nbformat": 4,
 "nbformat_minor": 4
}
